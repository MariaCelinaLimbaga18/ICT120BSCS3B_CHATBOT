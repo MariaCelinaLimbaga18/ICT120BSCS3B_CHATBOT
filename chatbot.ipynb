{
  "nbformat": 4,
  "nbformat_minor": 0,
  "metadata": {
    "colab": {
      "name": "chatbot.ipynb",
      "provenance": [],
      "collapsed_sections": [],
      "authorship_tag": "ABX9TyPWCYbHb1rwmA1dIzKAeqG5",
      "include_colab_link": true
    },
    "kernelspec": {
      "name": "python3",
      "display_name": "Python 3"
    },
    "language_info": {
      "name": "python"
    }
  },
  "cells": [
    {
      "cell_type": "markdown",
      "metadata": {
        "id": "view-in-github",
        "colab_type": "text"
      },
      "source": [
        "<a href=\"https://colab.research.google.com/github/MariaCelinaLimbaga18/ICT120BSCS3B_CHATBOT/blob/main/chatbot.ipynb\" target=\"_parent\"><img src=\"https://colab.research.google.com/assets/colab-badge.svg\" alt=\"Open In Colab\"/></a>"
      ]
    },
    {
      "cell_type": "code",
      "metadata": {
        "colab": {
          "base_uri": "https://localhost:8080/"
        },
        "id": "JuvnHLJLBCQ8",
        "outputId": "954e4f9d-305a-4d4f-cd7d-3cae67cbb32f"
      },
      "source": [
        "# Building a list of Keywords\n",
        " \n",
        "import re\n",
        "from nltk.corpus import wordnet\n",
        "import nltk\n",
        "nltk.download('wordnet')"
      ],
      "execution_count": 1,
      "outputs": [
        {
          "output_type": "stream",
          "text": [
            "[nltk_data] Downloading package wordnet to /root/nltk_data...\n",
            "[nltk_data]   Unzipping corpora/wordnet.zip.\n"
          ],
          "name": "stdout"
        },
        {
          "output_type": "execute_result",
          "data": {
            "text/plain": [
              "True"
            ]
          },
          "metadata": {
            "tags": []
          },
          "execution_count": 1
        }
      ]
    },
    {
      "cell_type": "code",
      "metadata": {
        "colab": {
          "base_uri": "https://localhost:8080/"
        },
        "id": "ucpZV-CsBOqi",
        "outputId": "e3904bc7-8c0c-461b-9c29-1c75d557d9aa"
      },
      "source": [
        "list_words=['hello','timings','create','services','updates']\n",
        "#ADDED NEW KEYWORDS ARE create,services,updates\n",
        " \n",
        "list_syn={}\n",
        "for word in list_words:\n",
        "    synonyms=[]\n",
        "    for syn in wordnet.synsets(word):\n",
        "        for lem in syn.lemmas():\n",
        " \n",
        "             # Remove any special characters from synonym strings\n",
        "            lem_name = re.sub('[^a-zA-Z0-9 \\n\\.]', ' ', lem.name())\n",
        "            synonyms.append(lem_name)\n",
        "   \n",
        "    list_syn[word]=set(synonyms)\n",
        "    \n",
        "print (list_syn)"
      ],
      "execution_count": 2,
      "outputs": [
        {
          "output_type": "stream",
          "text": [
            "{'hello': {'how do you do', 'hullo', 'howdy', 'hello', 'hi'}, 'timings': {'time', 'clock', 'timing'}, 'create': {'produce', 'make', 'create'}, 'services': {'military service', 'overhaul', 'armed service', 'religious service', 'service', 'Robert William Service', 'Service', 'avail', 'help', 'serve', 'table service', 'servicing', 'inspection and repair', 'serving', 'service of process', 'divine service', 'services'}, 'updates': {'update'}}\n"
          ],
          "name": "stdout"
        }
      ]
    },
    {
      "cell_type": "code",
      "metadata": {
        "colab": {
          "base_uri": "https://localhost:8080/"
        },
        "id": "qiQYu08RBXNN",
        "outputId": "efd87c9f-f28b-4ce3-f121-f38a37a41bd3"
      },
      "source": [
        "# Building dictionary of Intents & Keywords\n",
        "keywords={}\n",
        "keywords_dict={}\n",
        " \n",
        "# Defining a new key in the keywords dictionary\n",
        "keywords['greet']=[]\n",
        " \n",
        "# Populating the values in the keywords dictionary with synonyms of keywords formatted with RegEx metacharacters \n",
        "for synonym in list(list_syn['hello']):\n",
        "    keywords['greet'].append('.*\\\\b'+synonym+'\\\\b.*')\n",
        " \n",
        "# Defining a new key in the keywords dictionary\n",
        "keywords['timings']=[]\n",
        " \n",
        "# Populating the values in the keywords dictionary with synonyms of keywords formatted with RegEx metacharacters \n",
        "for synonym in list(list_syn['timings']):\n",
        "    keywords['timings'].append('.*\\\\b'+synonym+'\\\\b.*')\n",
        " \n",
        "#ADDED NEW KEYWORD\n",
        "keywords['create']=[]\n",
        " \n",
        "# Populating the values in the keywords dictionary with synonyms of keywords formatted with RegEx metacharacters \n",
        "for synonym in list(list_syn['create']):\n",
        "    keywords['create'].append('.*\\\\b'+synonym+'\\\\b.*')\n",
        " \n",
        "#ADDED NEW KEYWORD\n",
        "keywords['services']=[]\n",
        " \n",
        "# Populating the values in the keywords dictionary with synonyms of keywords formatted with RegEx metacharacters \n",
        "for synonym in list(list_syn['services']):\n",
        "    keywords['services'].append('.*\\\\b'+synonym+'\\\\b.*')\n",
        " \n",
        "#ADDED NEW KEYWORD   \n",
        "keywords['updates']=[]\n",
        " \n",
        "# Populating the values in the keywords dictionary with synonyms of keywords formatted with RegEx metacharacters\n",
        "for synonym in list(list_syn['updates']):\n",
        "    keywords['updates'].append('.*\\\\b'+synonym+'\\\\b.*')\n",
        " \n",
        "for intent, keys in keywords.items():\n",
        " \n",
        "      \n",
        "# Joining the values in the keywords dictionary with the OR (|) operator updating them in keywords_dict dictionary\n",
        "    keywords_dict[intent]=re.compile('|'.join(keys))\n",
        "print (keywords_dict)"
      ],
      "execution_count": 3,
      "outputs": [
        {
          "output_type": "stream",
          "text": [
            "{'greet': re.compile('.*\\\\bhow do you do\\\\b.*|.*\\\\bhullo\\\\b.*|.*\\\\bhowdy\\\\b.*|.*\\\\bhello\\\\b.*|.*\\\\bhi\\\\b.*'), 'timings': re.compile('.*\\\\btime\\\\b.*|.*\\\\bclock\\\\b.*|.*\\\\btiming\\\\b.*'), 'create': re.compile('.*\\\\bproduce\\\\b.*|.*\\\\bmake\\\\b.*|.*\\\\bcreate\\\\b.*'), 'services': re.compile('.*\\\\bmilitary service\\\\b.*|.*\\\\boverhaul\\\\b.*|.*\\\\barmed service\\\\b.*|.*\\\\breligious service\\\\b.*|.*\\\\bservice\\\\b.*|.*\\\\bRobert William Service\\\\b.*|.*\\\\bService\\\\b.*|.*\\\\bavail\\\\b.*|.*\\\\bhelp\\\\b.*|.), 'updates': re.compile('.*\\\\bupdate\\\\b.*')}\n"
          ],
          "name": "stdout"
        }
      ]
    },
    {
      "cell_type": "code",
      "metadata": {
        "id": "sTSkBMYTBfpf"
      },
      "source": [
        "# Building a dictionary of responses\n",
        "responses={\n",
        "    'greet':'Hello! How can I help you?',\n",
        "    'timings':'We are open from 9AM to 5PM, Monday to Friday. We are closed on weekends and public holidays',\n",
        "    'ask': 'How can I open a bank account?.',\n",
        "    'fallback':'I dont quite understand. Could you repeat that?',\n",
        "#ADDED RESPONSES\n",
        "  'create':'To create Bank Account, please visit our website,or download our mobile application, or visit our nearest Bank to see details or instructions',\n",
        "  'services': 'Please visit the website to quickly see the services offered for your convenience and benefits available in time of need',\n",
        "  'updates': 'For more updates and changing of Bank Account information please visit our website to see instruction.'\n",
        "  }"
      ],
      "execution_count": 4,
      "outputs": []
    },
    {
      "cell_type": "code",
      "metadata": {
        "colab": {
          "base_uri": "https://localhost:8080/"
        },
        "id": "6Gdr1-biBt4r",
        "outputId": "fbe45ec3-bf17-4f78-c7ea-722c344b58e2"
      },
      "source": [
        "print (\"Welcome to MyBank. How may I help you?\")\n",
        " \n",
        "# While loop to run the chatbot indefinetely\n",
        "while (True):  \n",
        "    \n",
        "    # Takes the user input and converts all characters to lowercase\n",
        "    user_input = input().lower()\n",
        "    \n",
        "    # Defining the Chatbot's exit condition\n",
        "    if user_input == 'quit': \n",
        "        print (\"Thank you for visiting.\")\n",
        "        break    \n",
        "    \n",
        "    matched_intent = None\n",
        "    \n",
        "    for intent,pattern in keywords_dict.items():\n",
        "        \n",
        "        # Using the regular expression search function to look for keywords in user input\n",
        "        if re.search(pattern, user_input): \n",
        "            \n",
        "            # if a keyword matches, select the corresponding intent from the keywords_dict dictionary\n",
        "            matched_intent=intent  \n",
        "    \n",
        "    # The fallback intent is selected by default\n",
        "    key='fallback'\n",
        "    if matched_intent in responses:\n",
        "        \n",
        "        # If a keyword matches, the fallback intent is replaced by the matched intent as the key for the responses dictionary\n",
        "        key = matched_intent \n",
        "    \n",
        "    # The chatbot prints the response that matches the selected intent\n",
        "    print (responses[key])"
      ],
      "execution_count": null,
      "outputs": [
        {
          "output_type": "stream",
          "text": [
            "Welcome to MyBank. How may I help you?\n",
            "I want to create an bank account\n",
            "To create Bank Account, please visit our website,or download our mobile application, or visit our nearest Bank to see details or instructions\n",
            "What services you offer?\n",
            "Please visit the website to quickly see the services offered for your convenience and benefits available in time of need\n",
            "Do have any updates on my account?\n",
            "I dont quite understand. Could you repeat that?\n"
          ],
          "name": "stdout"
        }
      ]
    }
  ]
}